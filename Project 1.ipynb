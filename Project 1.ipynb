{
 "cells": [
  {
   "cell_type": "markdown",
   "metadata": {},
   "source": [
    "## Imports"
   ]
  },
  {
   "cell_type": "code",
   "execution_count": null,
   "metadata": {},
   "outputs": [],
   "source": [
    "import pandas as pd\n",
    "import numpy\n",
    "import numpy as np\n",
    "import math\n",
    "import pylab\n",
    "import matplotlib as plt\n",
    "import matplotlib.pyplot as plt\n",
    "from pandas import DataFrame, Series\n",
    "import matplotlib.patches as mpatches\n",
    "from pylab import plot, ylim, xlim, show, xlabel, ylabel, grid"
   ]
  },
  {
   "cell_type": "markdown",
   "metadata": {},
   "source": [
    "## Reading the Data"
   ]
  },
  {
   "cell_type": "code",
   "execution_count": null,
   "metadata": {},
   "outputs": [],
   "source": [
    "df_W1=pd.read_csv('OregonShelfSurfacePiercingProfilerMooringWinter.csv')\n",
    "df_S1=pd.read_csv('OregonShelfSurfacePiercingProfilerMooringSummer.csv')\n",
    "\n",
    "df_W2=pd.read_csv('OregonOffshoreCabledShallowProfilerMooringWinter.csv')\n",
    "df_S2=pd.read_csv('OregonOffshoreCabledShallowProfilerMooringSummer.csv')\n",
    "\n",
    "df_W3=pd.read_csv('OregonOffshoreCabledDeepProfilerMooringWinter.csv')\n",
    "df_S3=pd.read_csv('OregonOffshoreCabledDeepProfilerMooringSummer.csv')\n",
    "\n",
    "df_W4=pd.read_csv('OregonSlopeBaseShallowProfilerWinter.csv')\n",
    "df_S4=pd.read_csv('OregonSlopeBaseShallowProfilerSummer.csv')\n",
    "\n",
    "df_W5=pd.read_csv('OregonSlopeBaseDeepProfilerWinter.csv')\n",
    "df_S5=pd.read_csv('OregonSlopeBaseDeepProfilerSummer.csv')\n",
    "\n",
    "df_W6=pd.read_csv('AxialBaseShallowProfilerWinter.csv')\n",
    "df_S6=pd.read_csv('AxialBaseShallowProfilerSummer.csv')\n",
    "\n",
    "df_W7=pd.read_csv('AxialBaseDeepProfilerWinter.csv')\n",
    "df_S7=pd.read_csv('AxialBaseDeepProfilerSummer.csv')"
   ]
  },
  {
   "cell_type": "markdown",
   "metadata": {},
   "source": [
    "## Defining Variables"
   ]
  },
  {
   "cell_type": "markdown",
   "metadata": {},
   "source": [
    "First Data Set"
   ]
  },
  {
   "cell_type": "code",
   "execution_count": null,
   "metadata": {},
   "outputs": [],
   "source": [
    "PW1=df_W1.pressure\n",
    "TW1=df_W1.temperature\n",
    "SW1=df_W1.salinity\n",
    "TW1_2 = TW1*TW1\n",
    "TW1_3 = TW1*TW1*TW1\n",
    "cW1 = (1449.2 + (4.6 * TW1) - (.055 * TW1_2) + (.00029 * TW1_3) + ((1.34 - 0.01*TW1)*(SW1 - 35)) + (.016*PW1))\n",
    "timeW1 = df_W1.time\n",
    "\n",
    "PS1=df_S1.pressure\n",
    "TS1=df_S1.temperature\n",
    "SS1=df_S1.salinity\n",
    "TS1_2 = TS1*TS1\n",
    "TS1_3 = TS1*TS1*TS1\n",
    "cS1 = (1449.2 + (4.6 * TS1) - (.055 * TS1_2) + (.00029 * TS1_3) + ((1.34 - 0.01*TS1)*(SS1 - 35)) + (.016*PS1))\n",
    "timeS1 = df_S1.time\n",
    "\n",
    "yW1 = PW1\n",
    "xW1 = cW1\n",
    "yS1 = PS1\n",
    "xS1 = cS1"
   ]
  },
  {
   "cell_type": "markdown",
   "metadata": {},
   "source": [
    "Second Data Set"
   ]
  },
  {
   "cell_type": "code",
   "execution_count": null,
   "metadata": {},
   "outputs": [],
   "source": [
    "PW2=df_W2.seawater_pressure\n",
    "TW2=df_W2.seawater_temperature\n",
    "SW2=df_W2.practical_salinity\n",
    "TW2_2 = TW2*TW2\n",
    "TW2_3 = TW2*TW2*TW2\n",
    "cW2 = (1449.2 + (4.6 * TW2) - (.055 * TW2_2) + (.00029 * TW2_3) + ((1.34 - 0.01*TW2)*(SW2 - 35)) + (.016*PW2))\n",
    "timeW2 = df_W2.time\n",
    "\n",
    "PS2=df_S2.seawater_pressure\n",
    "TS2=df_S2.seawater_temperature\n",
    "SS2=df_S2.practical_salinity\n",
    "TS2_2 = TS2*TS2\n",
    "TS2_3 = TS2*TS2*TS2\n",
    "cS2 = (1449.2 + (4.6 * TS2) - (.055 * TS2_2) + (.00029 * TS2_3) + ((1.34 - 0.01*TS2)*(SS2 - 35)) + (.016*PS2))\n",
    "timeS2 = df_S2.time\n",
    "\n",
    "yW2 = PW2\n",
    "xW2 = cW2\n",
    "yS2 = PS2\n",
    "xS2 = cS2"
   ]
  },
  {
   "cell_type": "markdown",
   "metadata": {},
   "source": [
    "Third Data Set"
   ]
  },
  {
   "cell_type": "code",
   "execution_count": null,
   "metadata": {},
   "outputs": [],
   "source": [
    "PW3=df_W3.pressure\n",
    "TW3=df_W3.temp\n",
    "SW3=df_W3.practical_salinity\n",
    "TW3_2 = TW3*TW3\n",
    "TW3_3 = TW3*TW3*TW3\n",
    "cW3 = (1449.2 + (4.6 * TW3) - (.055 * TW3_2) + (.00029 * TW3_3) + ((1.34 - 0.01*TW3)*(SW3 - 35)) + (.016*PW3))\n",
    "timeW3 = df_W3.time\n",
    "\n",
    "PS3=df_S3.pressure\n",
    "TS3=df_S3.temp\n",
    "SS3=df_S3.practical_salinity\n",
    "TS3_2 = TS3*TS3\n",
    "TS3_3 = TS3*TS3*TS3\n",
    "cS3 = (1449.2 + (4.6 * TS3) - (.055 * TS3_2) + (.00029 * TS3_3) + ((1.34 - 0.01*TS3)*(SS3 - 35)) + (.016*PS3))\n",
    "timeS3 = df_S3.time\n",
    "\n",
    "yW3 = PW3\n",
    "xW3 = cW3\n",
    "yS3 = PS3\n",
    "xS3 = cS3"
   ]
  },
  {
   "cell_type": "markdown",
   "metadata": {},
   "source": [
    "Fourth Data Set"
   ]
  },
  {
   "cell_type": "code",
   "execution_count": null,
   "metadata": {},
   "outputs": [],
   "source": [
    "PW4=df_W4.seawater_pressure\n",
    "TW4=df_W4.seawater_temperature\n",
    "SW4=df_W4.practical_salinity\n",
    "TW4_2 = TW4*TW4\n",
    "TW4_3 = TW4*TW4*TW4\n",
    "cW4 = (1449.2 + (4.6 * TW4) - (.055 * TW4_2) + (.00029 * TW4_3) + ((1.34 - 0.01*TW4)*(SW4 - 35)) + (.016*PW4))\n",
    "timeW4 = df_W4.time\n",
    "\n",
    "PS4=df_S4.seawater_pressure\n",
    "TS4=df_S4.seawater_temperature\n",
    "SS4=df_S4.practical_salinity\n",
    "TS4_2 = TS4*TS4\n",
    "TS4_3 = TS4*TS4*TS4\n",
    "cS4 = (1449.2 + (4.6 * TS4) - (.055 * TS4_2) + (.00029 * TS4_3) + ((1.34 - 0.01*TS4)*(SS4 - 35)) + (.016*PS4))\n",
    "timeS4 = df_S4.time\n",
    "\n",
    "yW4 = PW4\n",
    "xW4 = cW4\n",
    "yS4 = PS4\n",
    "xS4 = cS4"
   ]
  },
  {
   "cell_type": "markdown",
   "metadata": {},
   "source": [
    "Fifth Data Set"
   ]
  },
  {
   "cell_type": "code",
   "execution_count": null,
   "metadata": {},
   "outputs": [],
   "source": [
    "PW5=df_W5.pressure\n",
    "TW5=df_W5.temp\n",
    "SW5=df_W5.practical_salinity\n",
    "TW5_2 = TW5*TW5\n",
    "TW5_3 = TW5*TW5*TW5\n",
    "cW5 = (1449.2 + (4.6 * TW5) - (.055 * TW5_2) + (.00029 * TW5_3) + ((1.34 - 0.01*TW5)*(SW5 - 35)) + (.016*PW5))\n",
    "timeW5 = df_W5.time\n",
    "\n",
    "PS5=df_S5.pressure\n",
    "TS5=df_S5.temp\n",
    "SS5=df_S5.practical_salinity\n",
    "TS5_2 = TS5*TS5\n",
    "TS5_3 = TS5*TS5*TS5\n",
    "cS5 = (1449.2 + (4.6 * TS5) - (.055 * TS5_2) + (.00029 * TS5_3) + ((1.34 - 0.01*TS5)*(SS5 - 35)) + (.016*PS5))\n",
    "timeS5 = df_S5.time\n",
    "\n",
    "yW5 = PW5\n",
    "xW5 = cW5\n",
    "yS5 = PS5\n",
    "xS5 = cS5"
   ]
  },
  {
   "cell_type": "markdown",
   "metadata": {},
   "source": [
    "Sixth Data Set"
   ]
  },
  {
   "cell_type": "code",
   "execution_count": null,
   "metadata": {},
   "outputs": [],
   "source": [
    "PW6=df_W6.seawater_pressure\n",
    "TW6=df_W6.seawater_temperature\n",
    "SW6=df_W6.practical_salinity\n",
    "TW6_2 = TW6*TW6\n",
    "TW6_3 = TW6*TW6*TW6\n",
    "cW6 = (1449.2 + (4.6 * TW6) - (.055 * TW6_2) + (.00029 * TW6_3) + ((1.34 - 0.01*TW6)*(SW6 - 35)) + (.016*PW6))\n",
    "timeW6 = df_W6.time\n",
    "\n",
    "PS6=df_S6.seawater_pressure\n",
    "TS6=df_S6.seawater_temperature\n",
    "SS6=df_S6.practical_salinity\n",
    "TS6_2 = TS6*TS6\n",
    "TS6_3 = TS6*TS6*TS6\n",
    "cS6 = (1449.2 + (4.6 * TS6) - (.055 * TS6_2) + (.00029 * TS6_3) + ((1.34 - 0.01*TS6)*(SS6 - 35)) + (.016*PS6))\n",
    "timeS6 = df_S6.time\n",
    "\n",
    "yW6 = PW6\n",
    "xW6 = cW6\n",
    "yS6 = PS6\n",
    "xS6 = cS6"
   ]
  },
  {
   "cell_type": "markdown",
   "metadata": {},
   "source": [
    "Seventh Data Set"
   ]
  },
  {
   "cell_type": "code",
   "execution_count": null,
   "metadata": {},
   "outputs": [],
   "source": [
    "PW7=df_W7.pressure\n",
    "TW7=df_W7.temp\n",
    "SW7=df_W7.practical_salinity\n",
    "TW7_2 = TW7*TW7\n",
    "TW7_3 = TW7*TW7*TW7\n",
    "cW7 = (1449.2 + (4.6 * TW7) - (.055 * TW7_2) + (.00029 * TW7_3) + ((1.34 - 0.01*TW7)*(SW7 - 35)) + (.016*PW7))\n",
    "timeW7 = df_W7.time\n",
    "\n",
    "PS7=df_S7.pressure\n",
    "TS7=df_S7.temp\n",
    "SS7=df_S7.practical_salinity\n",
    "TS7_2 = TS7*TS7\n",
    "TS7_3 = TS7*TS7*TS7\n",
    "cS7 = (1449.2 + (4.6 * TS7) - (.055 * TS7_2) + (.00029 * TS7_3) + ((1.34 - 0.01*TS7)*(SS7 - 35)) + (.016*PS7))\n",
    "timeS7 = df_S7.time\n",
    "\n",
    "yW7 = PW7\n",
    "xW7 = cW7\n",
    "yS7 = PS7\n",
    "xS7 = cS7"
   ]
  },
  {
   "cell_type": "markdown",
   "metadata": {},
   "source": [
    "## Calculating Number of Dives"
   ]
  },
  {
   "cell_type": "markdown",
   "metadata": {},
   "source": [
    "Defining the function"
   ]
  },
  {
   "cell_type": "code",
   "execution_count": null,
   "metadata": {},
   "outputs": [],
   "source": [
    "    def diveCount(depth):\n",
    "    \n",
    "        bottom = max(depth)\n",
    "        atBottom = False\n",
    "        count = 0\n",
    " \n",
    "    \n",
    "        for i in range(0, len(depth)):\n",
    "            if(depth[i] > .95*bottom and not atBottom):\n",
    "                atBottom = True\n",
    "            \n",
    "            if(depth[i] < .95*bottom and atBottom):\n",
    "                atBottom = False\n",
    "                count += 1\n",
    "            \n",
    "        return count"
   ]
  },
  {
   "cell_type": "markdown",
   "metadata": {},
   "source": [
    "Number of Dives for each Data Set"
   ]
  },
  {
   "cell_type": "code",
   "execution_count": null,
   "metadata": {},
   "outputs": [],
   "source": [
    "DivesinWinter1 = diveCount(PW1)\n",
    "DivesinSummer1 = diveCount(PS1)\n",
    "\n",
    "print(\"The number of dives in Winter (1) is \" + str(DivesinWinter1))\n",
    "print(\"The number of dives in Summer (1) is \" + str(DivesinSummer1))\n",
    "\n",
    "DivesinWinter2 = diveCount(PW2)\n",
    "DivesinSummer2 = diveCount(PS2)\n",
    "\n",
    "print(\"The number of dives in Winter (2) is \" + str(DivesinWinter2))\n",
    "print(\"The number of dives in Summer (2) is \" + str(DivesinSummer2))\n",
    "\n",
    "DivesinWinter3 = diveCount(PW3)\n",
    "DivesinSummer3 = diveCount(PS3)\n",
    "\n",
    "print(\"The number of dives in Winter (3) is \" + str(DivesinWinter3))\n",
    "print(\"The number of dives in Summer (3) is \" + str(DivesinSummer3))\n",
    "\n",
    "DivesinWinter4 = diveCount(PW4)\n",
    "DivesinSummer4 = diveCount(PS4)\n",
    "\n",
    "print(\"The number of dives in Winter (4) is \" + str(DivesinWinter4))\n",
    "print(\"The number of dives in Summer (4) is \" + str(DivesinSummer4))\n",
    "\n",
    "DivesinWinter5 = diveCount(PW5)\n",
    "DivesinSummer5 = diveCount(PS5)\n",
    "\n",
    "print(\"The number of dives in Winter (5) is \" + str(DivesinWinter5))\n",
    "print(\"The number of dives in Summer (5) is \" + str(DivesinSummer5))\n",
    "\n",
    "DivesinWinter6 = diveCount(PW6)\n",
    "DivesinSummer6 = diveCount(PS6)\n",
    "\n",
    "print(\"The number of dives in Winter (6) is \" + str(DivesinWinter6))\n",
    "print(\"The number of dives in Summer (6) is \" + str(DivesinSummer6))\n",
    "\n",
    "DivesinWinter7 = diveCount(PW7)\n",
    "DivesinSummer7 = diveCount(PS7)\n",
    "\n",
    "print(\"The number of dives in Winter (7) is \" + str(DivesinWinter7))\n",
    "print(\"The number of dives in Summer (7) is \" + str(DivesinSummer7))"
   ]
  },
  {
   "cell_type": "markdown",
   "metadata": {},
   "source": [
    "## Plotting SSP for each dive"
   ]
  },
  {
   "cell_type": "markdown",
   "metadata": {},
   "source": [
    "Defining Average Function"
   ]
  },
  {
   "cell_type": "code",
   "execution_count": null,
   "metadata": {},
   "outputs": [],
   "source": [
    "def AvgDataSpeed(x,y):\n",
    "    Depth=y\n",
    "    Speed=x\n",
    "    Bottom=max(Depth)\n",
    "    Output = []\n",
    "    \n",
    "for i in range(0,25):\n",
    "        Output.append([0.0,0.0,0])\n",
    "    \n",
    "    for i in range(0,len(Depth)):\n",
    "        \n",
    "        for j in range(0,len(Output)):\n",
    "            \n",
    "            if(Depth[i] > (j/25)*Bottom and Depth[i]<((j/25)+.04)*Bottom):\n",
    "                Output[j][0]= Output[j][0]+Depth[i]\n",
    "                Output[j][1]= Output[j][1]+Speed[i]\n",
    "                Output[j][2]+=1\n",
    "                break\n",
    "    \n",
    "    OutputDepth = []\n",
    "    OutputSpeed = []\n",
    "    \n",
    "    for i in range(0,len(Output)):\n",
    "        if (Output[i][2]!=0):\n",
    "            OutputDepth.append(Output[i][0]/Output[i][2])\n",
    "            OutputSpeed.append(Output[i][1]/Output[i][2])\n",
    "            \n",
    "    return OutputDepth , OutputSpeed"
   ]
  },
  {
   "cell_type": "markdown",
   "metadata": {},
   "source": [
    "First Data Set"
   ]
  },
  {
   "cell_type": "code",
   "execution_count": null,
   "metadata": {},
   "outputs": [],
   "source": [
    "[y1,x1]=AvgDataSpeed(cW1,PW1)\n",
    "\n",
    "plt.figure(1)\n",
    "plt.scatter(xW1,yW1)\n",
    "plt.plot(x1,y1,'r')\n",
    "plt.gca().invert_yaxis()\n",
    "plt.title('Depth vs Speed of Sound (Winter1)')\n",
    "plt.xlabel('Speed of Sound (m/s)')\n",
    "plt.ylabel('Depth (m)')\n",
    "plt.legend()\n",
    "blue_patch = mpatches.Patch(color='blue', label='ssp')\n",
    "plt.legend(handles=[red_patch, blue_patch])\n",
    "\n",
    "\n",
    "\n",
    "\n",
    "\n",
    "[y2,x2]=AvgDataSpeed(cS1,PS1)\n",
    "\n",
    "plt.figure(2)\n",
    "plt.scatter(xS1,yS1)\n",
    "plt.plot(x2,y2,'r')\n",
    "plt.gca().invert_yaxis()\n",
    "plt.title('Depth vs Speed of Sound (Summer1)')\n",
    "plt.xlabel('Speed of Sound (m/s)')\n",
    "plt.ylabel('Depth (m)')\n",
    "plt.legend()\n",
    "blue_patch = mpatches.Patch(color='blue', label='ssp')\n",
    "plt.legend(handles=[red_patch, blue_patch])"
   ]
  },
  {
   "cell_type": "markdown",
   "metadata": {},
   "source": [
    "Second Data Set"
   ]
  },
  {
   "cell_type": "code",
   "execution_count": null,
   "metadata": {},
   "outputs": [],
   "source": [
    "[y3,x3]=AvgDataSpeed(cW2,PW2)\n",
    "\n",
    "plt.figure(3)\n",
    "plt.plot(x3,y3, 'r')\n",
    "plt.scatter(xW2,yW2)\n",
    "plt.gca().invert_yaxis()\n",
    "plt.title('Depth vs Speed of Sound (Winter2)')\n",
    "plt.xlabel('Speed of Sound (m/s)')\n",
    "plt.ylabel('Depth (m)')\n",
    "red_patch = mpatches.Patch(color='red', label='Average')\n",
    "blue_patch = mpatches.Patch(color='blue', label='ssp')\n",
    "plt.legend(handles=[red_patch, blue_patch])\n",
    "\n",
    "\n",
    "[y4,x4]=AvgDataSpeed(cS2,PS2)\n",
    "\n",
    "plt.figure(4)\n",
    "plt.plot(x4,y4, 'r')\n",
    "plt.scatter(xS2,yS2)\n",
    "plt.gca().invert_yaxis()\n",
    "plt.title('Depth vs Speed of Sound (Summer2)')\n",
    "plt.xlabel('Speed of Sound (m/s)')\n",
    "plt.ylabel('Depth (m)')\n",
    "red_patch = mpatches.Patch(color='red', label='Average')\n",
    "blue_patch = mpatches.Patch(color='blue', label='ssp')\n",
    "plt.legend(handles=[red_patch, blue_patch])"
   ]
  },
  {
   "cell_type": "markdown",
   "metadata": {},
   "source": [
    "Third Data Set"
   ]
  },
  {
   "cell_type": "code",
   "execution_count": null,
   "metadata": {},
   "outputs": [],
   "source": [
    "[y5,x5]=AvgDataSpeed(cW3,PW3)\n",
    "\n",
    "plt.figure(5)\n",
    "plt.plot(x5,y5, 'r')\n",
    "plt.scatter(xW3,yW3)\n",
    "plt.gca().invert_yaxis()\n",
    "plt.title('Depth vs Speed of Sound (Winter3)')\n",
    "plt.xlabel('Speed of Sound (m/s)')\n",
    "plt.ylabel('Depth (m)')\n",
    "red_patch = mpatches.Patch(color='red', label='Average')\n",
    "blue_patch = mpatches.Patch(color='blue', label='ssp')\n",
    "plt.legend(handles=[red_patch, blue_patch])\n",
    "\n",
    "[y6,x6]=AvgDataSpeed(cS3,PS3)\n",
    "\n",
    "plt.figure(6)\n",
    "plt.plot(x6,y6, 'r')\n",
    "plt.scatter(xS3,yS3)\n",
    "plt.gca().invert_yaxis()\n",
    "plt.title('Depth vs Speed of Sound (Summer3)')\n",
    "plt.xlabel('Speed of Sound (m/s)')\n",
    "plt.ylabel('Depth (m)')\n",
    "red_patch = mpatches.Patch(color='red', label='Average')\n",
    "blue_patch = mpatches.Patch(color='blue', label='ssp')\n",
    "plt.legend(handles=[red_patch, blue_patch])"
   ]
  },
  {
   "cell_type": "markdown",
   "metadata": {},
   "source": [
    "Fourth Data Set"
   ]
  },
  {
   "cell_type": "code",
   "execution_count": null,
   "metadata": {},
   "outputs": [],
   "source": [
    "[y7,x7]=AvgDataSpeed(cW4,PW4)\n",
    "\n",
    "plt.figure(7)\n",
    "plt.plot(x7,y7, 'r')\n",
    "plt.scatter(xW4,yW4)\n",
    "plt.gca().invert_yaxis()\n",
    "plt.title('Depth vs Speed of Sound (Winter4)')\n",
    "plt.xlabel('Speed of Sound (m/s)')\n",
    "plt.ylabel('Depth (m)')\n",
    "red_patch = mpatches.Patch(color='red', label='Average')\n",
    "blue_patch = mpatches.Patch(color='blue', label='ssp')\n",
    "plt.legend(handles=[red_patch, blue_patch])\n",
    "\n",
    "[y8,x8]=AvgDataSpeed(cS4,PS4)\n",
    "\n",
    "plt.figure(8)\n",
    "plt.scatter(xS4,yS4)\n",
    "plt.plot(x8,y8, 'r')\n",
    "plt.gca().invert_yaxis()\n",
    "plt.title('Depth vs Speed of Sound (Summer4)')\n",
    "plt.xlabel('Speed of Sound (m/s)')\n",
    "plt.ylabel('Depth (m)')\n",
    "red_patch = mpatches.Patch(color='red', label='Average')\n",
    "blue_patch = mpatches.Patch(color='blue', label='ssp')\n",
    "plt.legend(handles=[red_patch, blue_patch])"
   ]
  },
  {
   "cell_type": "markdown",
   "metadata": {},
   "source": [
    "Fifth Data Set"
   ]
  },
  {
   "cell_type": "code",
   "execution_count": null,
   "metadata": {},
   "outputs": [],
   "source": [
    "[y9,x9]=AvgDataSpeed(cW5,PW5)\n",
    "\n",
    "plt.figure(9)\n",
    "plt.scatter(xW5,yW5)\n",
    "plt.plot(x9,y9, 'r')\n",
    "plt.gca().invert_yaxis()\n",
    "plt.title('Depth vs Speed of Sound (Winter5)')\n",
    "plt.xlabel('Speed of Sound (m/s)')\n",
    "plt.ylabel('Depth (m)')\n",
    "red_patch = mpatches.Patch(color='red', label='Average')\n",
    "blue_patch = mpatches.Patch(color='blue', label='ssp')\n",
    "plt.legend(handles=[red_patch, blue_patch])\n",
    "\n",
    "[y10,x10]=AvgDataSpeed(cS5,PS5)\n",
    "\n",
    "plt.figure(10)\n",
    "plt.scatter(xS5,yS5)\n",
    "plt.plot(x10,y10, 'r')\n",
    "plt.gca().invert_yaxis()\n",
    "plt.title('Depth vs Speed of Sound (Summer5)')\n",
    "plt.xlabel('Speed of Sound (m/s)')\n",
    "plt.ylabel('Depth (m)')\n",
    "red_patch = mpatches.Patch(color='red', label='Average')\n",
    "blue_patch = mpatches.Patch(color='blue', label='ssp')\n",
    "plt.legend(handles=[red_patch, blue_patch])"
   ]
  },
  {
   "cell_type": "markdown",
   "metadata": {},
   "source": [
    "Sixth Data Set"
   ]
  },
  {
   "cell_type": "code",
   "execution_count": null,
   "metadata": {},
   "outputs": [],
   "source": [
    "[y11,x11]=AvgDataSpeed(cW6,PW6)\n",
    "\n",
    "plt.figure(11)\n",
    "plt.scatter(xW6,yW6)\n",
    "plt.plot(x11,y11, 'r')\n",
    "plt.gca().invert_yaxis()\n",
    "plt.title('Depth vs Speed of Sound (Winter6)')\n",
    "plt.xlabel('Speed of Sound (m/s)')\n",
    "plt.ylabel('Depth (m)')\n",
    "red_patch = mpatches.Patch(color='red', label='Average')\n",
    "blue_patch = mpatches.Patch(color='blue', label='ssp')\n",
    "plt.legend(handles=[red_patch, blue_patch])\n",
    "\n",
    "\n",
    "[y12,x12]=AvgDataSpeed(cS6,PS6)\n",
    "\n",
    "\n",
    "plt.figure(12)\n",
    "plt.scatter(xS6,yS6)\n",
    "plt.plot(x12,y12, 'r')\n",
    "plt.gca().invert_yaxis()\n",
    "plt.title('Depth vs Speed of Sound (Summer6)')\n",
    "plt.xlabel('Speed of Sound (m/s)')\n",
    "plt.ylabel('Depth (m)')\n",
    "red_patch = mpatches.Patch(color='red', label='Average')\n",
    "blue_patch = mpatches.Patch(color='blue', label='ssp')\n",
    "plt.legend(handles=[red_patch, blue_patch])"
   ]
  },
  {
   "cell_type": "markdown",
   "metadata": {},
   "source": [
    "Seventh Data Set"
   ]
  },
  {
   "cell_type": "code",
   "execution_count": null,
   "metadata": {},
   "outputs": [],
   "source": [
    "[y13,x13]=AvgDataSpeed(cW7,PW7)\n",
    "\n",
    "plt.figure(13)\n",
    "plt.scatter(xW7,yW7)\n",
    "plt.plot(x13,y13, 'r')\n",
    "plt.gca().invert_yaxis()\n",
    "plt.title('Depth vs Speed of Sound (Winter7)')\n",
    "plt.xlabel('Speed of Sound (m/s)')\n",
    "plt.ylabel('Depth (m)')\n",
    "red_patch = mpatches.Patch(color='red', label='Average')\n",
    "blue_patch = mpatches.Patch(color='blue', label='ssp')\n",
    "plt.legend(handles=[red_patch, blue_patch])\n",
    "\n",
    "[y14,x14]=AvgDataSpeed(cS7,PS7)\n",
    "\n",
    "plt.figure(14)\n",
    "plt.scatter(xS7,yS7)\n",
    "plt.plot(x14,y14, 'r')\n",
    "plt.gca().invert_yaxis()\n",
    "plt.title('Depth vs Speed of Sound (Summer7)')\n",
    "plt.xlabel('Speed of Sound (m/s)')\n",
    "plt.ylabel('Depth (m)')\n",
    "red_patch = mpatches.Patch(color='red', label='Average')\n",
    "blue_patch = mpatches.Patch(color='blue', label='ssp')\n",
    "plt.legend(handles=[red_patch, blue_patch])"
   ]
  },
  {
   "cell_type": "markdown",
   "metadata": {},
   "source": [
    "## Finding the Max SSP Value in Each Season"
   ]
  },
  {
   "cell_type": "code",
   "execution_count": null,
   "metadata": {},
   "outputs": [],
   "source": [
    "ssp_Winter=(max(cW1),max(cW2),max(cW3),max(cW4),max(cW5),max(cW6),max(cW7))\n",
    "Max_ssp_Winter=max(ssp_Winter)\n",
    "print(ssp_Winter)\n",
    "print(Max_ssp_Winter)\n",
    "\n",
    "    \n",
    "ssp_Summer=(max(cS1),max(cS2),max(cS3),max(cS4),max(cS5),max(cS6),max(cS7))\n",
    "Max_ssp_Summer=max(max(cS1),max(cS2),max(cS3),max(cS4),max(cS5),max(cS6),max(cS7))\n",
    "print(ssp_Summer)\n",
    "print(Max_ssp_Summer)"
   ]
  },
  {
   "cell_type": "markdown",
   "metadata": {},
   "source": [
    "## SSP Profile in Day vs Night"
   ]
  },
  {
   "cell_type": "code",
   "execution_count": null,
   "metadata": {},
   "outputs": [],
   "source": [
    "plt.figure(19)\n",
    "plt.scatter(timeW1,cW1)\n",
    "plt.title('time vs Speed of Sound (Winter1)')\n",
    "plt.xlabel('time (s)')\n",
    "plt.ylabel('Speed of sound (m/s)')\n",
    "\n",
    "plt.figure(20)\n",
    "plt.scatter(timeW2,cW2)\n",
    "plt.title('time vs Speed of Sound (Winter2)')\n",
    "plt.xlabel('time (s)')\n",
    "plt.ylabel('Speed of sound (m/s)')\n",
    "\n",
    "plt.figure(21)\n",
    "plt.scatter(timeW3,cW3)\n",
    "plt.title('time vs Speed of Sound (Winter3)')\n",
    "plt.xlabel('time (s)')\n",
    "plt.ylabel('Speed of sound (m/s)')\n",
    "\n",
    "plt.figure(22)\n",
    "plt.scatter(timeW4,cW4)\n",
    "plt.title('time vs Speed of Sound (Winter4)')\n",
    "plt.xlabel('time (s)')\n",
    "plt.ylabel('Speed of sound (m/s)')\n",
    "\n",
    "plt.figure(23)\n",
    "plt.scatter(timeW5,cW5)\n",
    "plt.title('time vs Speed of Sound (Winter5)')\n",
    "plt.xlabel('time (s)')\n",
    "plt.ylabel('Speed of sound (m/s)')\n",
    "\n",
    "plt.figure(24)\n",
    "plt.scatter(timeW6,cW6)\n",
    "plt.title('time vs Speed of Sound (Winter6)')\n",
    "plt.xlabel('time (s)')\n",
    "plt.ylabel('Speed of sound (m/s)')\n",
    "    \n",
    "plt.figure(25)\n",
    "plt.scatter(timeW7,cW7)\n",
    "plt.title('time vs Speed of Sound (Winter7)')\n",
    "plt.xlabel('time (s)')\n",
    "plt.ylabel('Speed of sound (m/s)')\n",
    "\n",
    "plt.figure(26)\n",
    "plt.scatter(timeS1,cS1)\n",
    "plt.title('time vs Speed of Sound (Summer1)')\n",
    "plt.xlabel('time (s)')\n",
    "plt.ylabel('Speed of sound (m/s)')\n",
    "\n",
    "plt.figure(27)\n",
    "plt.scatter(timeS2,cS2)\n",
    "plt.title('time vs Speed of Sound (Summer2)')\n",
    "plt.xlabel('time (s)')\n",
    "plt.ylabel('Speed of sound (m/s)')\n",
    "\n",
    "plt.figure(28)\n",
    "plt.scatter(timeS3,cS3)\n",
    "plt.title('time vs Speed of Sound (Summer3)')\n",
    "plt.xlabel('time (s)')\n",
    "plt.ylabel('Speed of sound (m/s)')\n",
    "\n",
    "plt.figure(29)\n",
    "plt.scatter(timeS4,cS4)\n",
    "plt.title('time vs Speed of Sound (Summer4)')\n",
    "plt.xlabel('time (s)')\n",
    "plt.ylabel('Speed of sound (m/s)')\n",
    "\n",
    "plt.figure(30)\n",
    "plt.scatter(timeS5,cS5)\n",
    "plt.title('time vs Speed of Sound (Summer5)')\n",
    "plt.xlabel('time (s)')\n",
    "plt.ylabel('Speed of sound (m/s)')\n",
    "\n",
    "plt.figure(31)\n",
    "plt.scatter(timeS6,cS6)\n",
    "plt.title('time vs Speed of Sound (Summer6)')\n",
    "plt.xlabel('time (s)')\n",
    "plt.ylabel('Speed of sound (m/s)')\n",
    "\n",
    "plt.figure(32)\n",
    "plt.scatter(timeS7,cS7)\n",
    "plt.title('time vs Speed of Sound (Summer7)')\n",
    "plt.xlabel('time (s)')\n",
    "plt.ylabel('Speed of sound (m/s)')"
   ]
  },
  {
   "cell_type": "markdown",
   "metadata": {},
   "source": [
    "## SSP Profile in Winter vs Summer"
   ]
  },
  {
   "cell_type": "code",
   "execution_count": null,
   "metadata": {},
   "outputs": [],
   "source": [
    "plt.figure(17)\n",
    "plt.plot(xW1,yW1, 'blue')\n",
    "plt.plot(xW2,yW2, 'purple')\n",
    "plt.plot(xW3,yW3, 'red')\n",
    "plt.plot(xW4,yW4, 'green')\n",
    "plt.plot(xW5,yW5, 'yellow')\n",
    "plt.plot(xW6,yW6, 'cyan')\n",
    "plt.plot(xW7,yW7, 'violet')\n",
    "plt.gca().invert_yaxis()\n",
    "plt.title('Depth vs Speed of Sound (Winter)')\n",
    "plt.xlabel('Speed of Sound (m/s)')\n",
    "plt.ylabel('Depth (m)')\n",
    "blue_patch = mpatches.Patch(color='blue', label='1')\n",
    "purple_patch = mpatches.Patch(color='purple', label='2')\n",
    "red_patch = mpatches.Patch(color='red', label='3')\n",
    "green_patch = mpatches.Patch(color='green', label='4')\n",
    "yellow_patch = mpatches.Patch(color='yellow', label='5')\n",
    "cyan_patch = mpatches.Patch(color='cyan', label='6')\n",
    "violet_patch = mpatches.Patch(color='violet', label='7')\n",
    "plt.legend(handles=[blue_patch, purple_patch, red_patch, green_patch, yellow_patch, cyan_patch, violet_patch])\n",
    "\n",
    "\n",
    "\n",
    "\n",
    "plt.figure(18)\n",
    "plt.plot(xS1,yS1, 'blue')\n",
    "plt.plot(xS2,yS2, 'purple')\n",
    "plt.plot(xS3,yS3, 'red')\n",
    "plt.plot(xS4,yS4, 'green')\n",
    "plt.plot(xS5,yS5, 'yellow')\n",
    "plt.plot(xS6,yS6, 'cyan')\n",
    "plt.plot(xS7,yS7, 'violet')\n",
    "plt.gca().invert_yaxis()\n",
    "plt.title('Depth vs Speed of Sound (Summer)')\n",
    "plt.xlabel('Speed of Sound (m/s)')\n",
    "plt.ylabel('Depth (m)')\n",
    "blue_patch = mpatches.Patch(color='blue', label='1')\n",
    "purple_patch = mpatches.Patch(color='purple', label='2')\n",
    "red_patch = mpatches.Patch(color='red', label='3')\n",
    "green_patch = mpatches.Patch(color='green', label='4')\n",
    "yellow_patch = mpatches.Patch(color='yellow', label='5')\n",
    "cyan_patch = mpatches.Patch(color='cyan', label='6')\n",
    "violet_patch = mpatches.Patch(color='violet', label='7')\n",
    "plt.legend(handles=[blue_patch, purple_patch, red_patch, green_patch, yellow_patch, cyan_patch, violet_patch])"
   ]
  },
  {
   "cell_type": "code",
   "execution_count": null,
   "metadata": {},
   "outputs": [],
   "source": []
  }
 ],
 "metadata": {
  "kernelspec": {
   "display_name": "Python 3",
   "language": "python",
   "name": "python3"
  },
  "language_info": {
   "codemirror_mode": {
    "name": "ipython",
    "version": 3
   },
   "file_extension": ".py",
   "mimetype": "text/x-python",
   "name": "python",
   "nbconvert_exporter": "python",
   "pygments_lexer": "ipython3",
   "version": "3.7.4"
  }
 },
 "nbformat": 4,
 "nbformat_minor": 2
}
